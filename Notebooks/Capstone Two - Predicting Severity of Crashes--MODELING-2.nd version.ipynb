{
 "cells": [
  {
   "cell_type": "markdown",
   "id": "cefd19ac",
   "metadata": {},
   "source": [
    "# Predicting severity of crashes -- Modeling 3d version\n"
   ]
  },
  {
   "cell_type": "markdown",
   "id": "fe46c2ee",
   "metadata": {},
   "source": [
    "## Capstone Project Two : Springboard Data Science career track"
   ]
  },
  {
   "cell_type": "markdown",
   "id": "3fc88d4a",
   "metadata": {},
   "source": [
    "## Notebook by Tzega Abera"
   ]
  },
  {
   "cell_type": "markdown",
   "id": "d5d4a18a",
   "metadata": {},
   "source": [
    "credit: \n",
    "https://github.com/debisree/"
   ]
  },
  {
   "cell_type": "markdown",
   "id": "85fb0fe0",
   "metadata": {},
   "source": [
    "## 1. Introduction"
   ]
  },
  {
   "cell_type": "markdown",
   "id": "62a4dbc0",
   "metadata": {},
   "source": [
    "The City of Chicago is the largest city in the state of Illinois and the third-largest city in the United States. It is a major center for commerce, industry, transportation, and culture. The city has over 2.7 million residents and every year, countless individuals are affected by devastating traffic accidents. Today, Chicago is focusing on improving the quality of life for the residents by implementing the initiatives called Vision Zero aiming to prevent these tragedies. One of the city's main targets is to keep its roads safe by reducing speed-related fatal and serious injury crashes by 25%."
   ]
  },
  {
   "cell_type": "markdown",
   "id": "de97db4a",
   "metadata": {},
   "source": [
    "### 1.1 The Problem"
   ]
  },
  {
   "cell_type": "markdown",
   "id": "9e8bbfc6",
   "metadata": {},
   "source": [
    "The purpose of this data science project is to conduct a crash severity analysis for the city of Chicago and build a predictive model for fatal and serious injury crushes based on a number of crash- types (determine which ones resulted in fatal or serious injuries) boasted by neighborhoods within the city.\n",
    "\n",
    "This model will be used to provide guidance for the City of Chicago to predict if a traffic crash will be severe/fatal helping the city to optimize allocation of it's emergency resources.\n"
   ]
  },
  {
   "cell_type": "markdown",
   "id": "a29e5917",
   "metadata": {},
   "source": [
    "### 1.2 The Data"
   ]
  },
  {
   "cell_type": "markdown",
   "id": "777c550e",
   "metadata": {},
   "source": [
    "The city of chicago hosts the original dataset in their website. \n",
    "https://data.cityofchicago.org/Transportation/Traffic-Crashes-Crashes/85ca-t3if\n",
    "\n",
    "The data is updated very frequently and the original dataset contains over 700,000 rows. For the purpose of this project, we will use only 200,000 rows."
   ]
  },
  {
   "cell_type": "markdown",
   "id": "6501f025",
   "metadata": {},
   "source": [
    "### 1.3 Imports"
   ]
  },
  {
   "cell_type": "code",
   "execution_count": 2,
   "id": "2d3e58fe",
   "metadata": {},
   "outputs": [],
   "source": [
    "import pandas as pd\n",
    "import numpy as np\n",
    "import os\n",
    "import matplotlib.pyplot as plt\n",
    "import seaborn as sns\n",
    "from sklearn.decomposition import PCA\n",
    "from sklearn.preprocessing import scale\n",
    "from sklearn import preprocessing\n",
    "from sklearn.model_selection import KFold\n",
    "from sklearn.linear_model import LogisticRegression\n",
    "from sklearn.metrics import accuracy_score, f1_score\n",
    "from sklearn.metrics import classification_report\n",
    "from sklearn.metrics import confusion_matrix\n",
    "from sklearn.metrics import ConfusionMatrixDisplay\n",
    "from sklearn.model_selection import train_test_split\n",
    "import scipy.stats as stats\n",
    "import folium\n",
    "\n",
    "from library.sb_utils import save_file"
   ]
  },
  {
   "cell_type": "code",
   "execution_count": 3,
   "id": "c5dd4317",
   "metadata": {},
   "outputs": [],
   "source": [
    "df = pd.read_csv('../data/traffic_data_step3_features.csv')\n"
   ]
  },
  {
   "cell_type": "code",
   "execution_count": 4,
   "id": "e6dbe45e",
   "metadata": {},
   "outputs": [
    {
     "data": {
      "text/plain": [
       "(199999, 38)"
      ]
     },
     "execution_count": 4,
     "metadata": {},
     "output_type": "execute_result"
    }
   ],
   "source": [
    "df.shape"
   ]
  },
  {
   "cell_type": "markdown",
   "id": "63166b96",
   "metadata": {},
   "source": [
    "# 2. Feature engineering"
   ]
  },
  {
   "cell_type": "markdown",
   "id": "e755d1d7",
   "metadata": {},
   "source": [
    "The goal of this project is to be able to predict if a crash will result in a serious/fata injuries. Thus we will focus on \n",
    "the column MOST_SEVERE_INJURY which contain the information if each crash resulted in injuries."
   ]
  },
  {
   "cell_type": "code",
   "execution_count": 5,
   "id": "726ab49c",
   "metadata": {},
   "outputs": [
    {
     "data": {
      "text/plain": [
       "array(['REPORTED, NOT EVIDENT', 'NO INDICATION OF INJURY',\n",
       "       'NONINCAPACITATING INJURY', 'INCAPACITATING INJURY', nan, 'FATAL'],\n",
       "      dtype=object)"
      ]
     },
     "execution_count": 5,
     "metadata": {},
     "output_type": "execute_result"
    }
   ],
   "source": [
    "#look into the column MOST_SEVERE_INJURY\n",
    "df[\"MOST_SEVERE_INJURY\"].unique()"
   ]
  },
  {
   "cell_type": "code",
   "execution_count": 6,
   "id": "d27547eb",
   "metadata": {},
   "outputs": [
    {
     "data": {
      "text/plain": [
       "NO INDICATION OF INJURY     172300\n",
       "NONINCAPACITATING INJURY     15367\n",
       "REPORTED, NOT EVIDENT         8246\n",
       "INCAPACITATING INJURY         3415\n",
       "FATAL                          226\n",
       "Name: MOST_SEVERE_INJURY, dtype: int64"
      ]
     },
     "execution_count": 6,
     "metadata": {},
     "output_type": "execute_result"
    }
   ],
   "source": [
    "class_counts = df['MOST_SEVERE_INJURY'].value_counts()\n",
    "class_counts"
   ]
  },
  {
   "cell_type": "markdown",
   "id": "ad388cf3",
   "metadata": {},
   "source": [
    "We have a large number of crashes that resulted in no injuries while about 15% of the crashes resulted in injures or were fatal.\n",
    "Next, we will create a new column called SEVERE_INJURY. The column takes a value of 1 if the value \n",
    "in the MOST_SEVERE_INJURY column is one of the specified injury categories: \"NONINCAPACITATING INJURY\", \"REPORTED, \n",
    "\"NOT EVIDENT\", \"REPORTED\", \"INCAPACITATING INJURY\", or \"FATAL\". Otherwise, the value of SEVERE_INJURY is 0.\n",
    "\n",
    "This binary classification column will be our target colum. "
   ]
  },
  {
   "cell_type": "code",
   "execution_count": 7,
   "id": "25c6e950",
   "metadata": {},
   "outputs": [
    {
     "data": {
      "text/html": [
       "<div>\n",
       "<style scoped>\n",
       "    .dataframe tbody tr th:only-of-type {\n",
       "        vertical-align: middle;\n",
       "    }\n",
       "\n",
       "    .dataframe tbody tr th {\n",
       "        vertical-align: top;\n",
       "    }\n",
       "\n",
       "    .dataframe thead th {\n",
       "        text-align: right;\n",
       "    }\n",
       "</style>\n",
       "<table border=\"1\" class=\"dataframe\">\n",
       "  <thead>\n",
       "    <tr style=\"text-align: right;\">\n",
       "      <th></th>\n",
       "      <th>CRASH_RECORD_ID</th>\n",
       "      <th>CRASH_DATE</th>\n",
       "      <th>POSTED_SPEED_LIMIT</th>\n",
       "      <th>TRAFFIC_CONTROL_DEVICE</th>\n",
       "      <th>DEVICE_CONDITION</th>\n",
       "      <th>WEATHER_CONDITION</th>\n",
       "      <th>LIGHTING_CONDITION</th>\n",
       "      <th>FIRST_CRASH_TYPE</th>\n",
       "      <th>TRAFFICWAY_TYPE</th>\n",
       "      <th>ALIGNMENT</th>\n",
       "      <th>...</th>\n",
       "      <th>INJURIES_NO_INDICATION</th>\n",
       "      <th>INJURIES_UNKNOWN</th>\n",
       "      <th>CRASH_HOUR</th>\n",
       "      <th>CRASH_DAY_OF_WEEK</th>\n",
       "      <th>CRASH_MONTH</th>\n",
       "      <th>LATITUDE</th>\n",
       "      <th>LONGITUDE</th>\n",
       "      <th>LOCATION</th>\n",
       "      <th>CRASH_YEAR</th>\n",
       "      <th>SEVERE_INJURY</th>\n",
       "    </tr>\n",
       "  </thead>\n",
       "  <tbody>\n",
       "    <tr>\n",
       "      <th>0</th>\n",
       "      <td>79c7a2ce89f446262efd86df3d72d18b04ba487024b7c4...</td>\n",
       "      <td>3/25/2019 14:43</td>\n",
       "      <td>30</td>\n",
       "      <td>TRAFFIC SIGNAL</td>\n",
       "      <td>FUNCTIONING PROPERLY</td>\n",
       "      <td>CLEAR</td>\n",
       "      <td>DAYLIGHT</td>\n",
       "      <td>TURNING</td>\n",
       "      <td>ONE-WAY</td>\n",
       "      <td>STRAIGHT AND LEVEL</td>\n",
       "      <td>...</td>\n",
       "      <td>2.0</td>\n",
       "      <td>0.0</td>\n",
       "      <td>14</td>\n",
       "      <td>2</td>\n",
       "      <td>3</td>\n",
       "      <td>41.884547</td>\n",
       "      <td>-87.641201</td>\n",
       "      <td>POINT (-87.64120093714 41.884547224337)</td>\n",
       "      <td>2019</td>\n",
       "      <td>1</td>\n",
       "    </tr>\n",
       "    <tr>\n",
       "      <th>1</th>\n",
       "      <td>792b539deaaad65ee5b4a9691d927a34d298eb33d42af0...</td>\n",
       "      <td>9/5/2018 8:40</td>\n",
       "      <td>30</td>\n",
       "      <td>NO CONTROLS</td>\n",
       "      <td>NO CONTROLS</td>\n",
       "      <td>CLEAR</td>\n",
       "      <td>DAYLIGHT</td>\n",
       "      <td>ANGLE</td>\n",
       "      <td>NOT DIVIDED</td>\n",
       "      <td>STRAIGHT AND LEVEL</td>\n",
       "      <td>...</td>\n",
       "      <td>2.0</td>\n",
       "      <td>0.0</td>\n",
       "      <td>8</td>\n",
       "      <td>4</td>\n",
       "      <td>9</td>\n",
       "      <td>41.968562</td>\n",
       "      <td>-87.740659</td>\n",
       "      <td>POINT (-87.740659314632 41.968562453871)</td>\n",
       "      <td>2018</td>\n",
       "      <td>0</td>\n",
       "    </tr>\n",
       "    <tr>\n",
       "      <th>2</th>\n",
       "      <td>0115ade9a755e835255508463f7e9c4a9a0b47e9304238...</td>\n",
       "      <td>7/15/2022 0:45</td>\n",
       "      <td>30</td>\n",
       "      <td>UNKNOWN</td>\n",
       "      <td>UNKNOWN</td>\n",
       "      <td>CLEAR</td>\n",
       "      <td>POORLY LIT</td>\n",
       "      <td>ANGLE</td>\n",
       "      <td>NOT DIVIDED</td>\n",
       "      <td>STRAIGHT AND LEVEL</td>\n",
       "      <td>...</td>\n",
       "      <td>2.0</td>\n",
       "      <td>0.0</td>\n",
       "      <td>0</td>\n",
       "      <td>6</td>\n",
       "      <td>7</td>\n",
       "      <td>41.886336</td>\n",
       "      <td>-87.716203</td>\n",
       "      <td>POINT (-87.716203130599 41.886336409761)</td>\n",
       "      <td>2022</td>\n",
       "      <td>0</td>\n",
       "    </tr>\n",
       "    <tr>\n",
       "      <th>3</th>\n",
       "      <td>05b1982cdba5d8a00e7e76ad1ecdab0e598429f78481d2...</td>\n",
       "      <td>8/29/2022 11:30</td>\n",
       "      <td>30</td>\n",
       "      <td>TRAFFIC SIGNAL</td>\n",
       "      <td>FUNCTIONING PROPERLY</td>\n",
       "      <td>CLEAR</td>\n",
       "      <td>DAYLIGHT</td>\n",
       "      <td>REAR END</td>\n",
       "      <td>FOUR WAY</td>\n",
       "      <td>STRAIGHT AND LEVEL</td>\n",
       "      <td>...</td>\n",
       "      <td>3.0</td>\n",
       "      <td>0.0</td>\n",
       "      <td>11</td>\n",
       "      <td>2</td>\n",
       "      <td>8</td>\n",
       "      <td>41.749348</td>\n",
       "      <td>-87.721097</td>\n",
       "      <td>POINT (-87.721096727406 41.749348170421)</td>\n",
       "      <td>2022</td>\n",
       "      <td>0</td>\n",
       "    </tr>\n",
       "    <tr>\n",
       "      <th>4</th>\n",
       "      <td>017040c61958d2fa977c956b2bd2d6759ef7754496dc96...</td>\n",
       "      <td>7/15/2022 18:50</td>\n",
       "      <td>30</td>\n",
       "      <td>TRAFFIC SIGNAL</td>\n",
       "      <td>FUNCTIONING PROPERLY</td>\n",
       "      <td>CLEAR</td>\n",
       "      <td>DAYLIGHT</td>\n",
       "      <td>REAR END</td>\n",
       "      <td>NOT DIVIDED</td>\n",
       "      <td>STRAIGHT AND LEVEL</td>\n",
       "      <td>...</td>\n",
       "      <td>2.0</td>\n",
       "      <td>0.0</td>\n",
       "      <td>18</td>\n",
       "      <td>6</td>\n",
       "      <td>7</td>\n",
       "      <td>41.925111</td>\n",
       "      <td>-87.667997</td>\n",
       "      <td>POINT (-87.667997321599 41.925110815832)</td>\n",
       "      <td>2022</td>\n",
       "      <td>0</td>\n",
       "    </tr>\n",
       "  </tbody>\n",
       "</table>\n",
       "<p>5 rows × 39 columns</p>\n",
       "</div>"
      ],
      "text/plain": [
       "                                     CRASH_RECORD_ID       CRASH_DATE  \\\n",
       "0  79c7a2ce89f446262efd86df3d72d18b04ba487024b7c4...  3/25/2019 14:43   \n",
       "1  792b539deaaad65ee5b4a9691d927a34d298eb33d42af0...    9/5/2018 8:40   \n",
       "2  0115ade9a755e835255508463f7e9c4a9a0b47e9304238...   7/15/2022 0:45   \n",
       "3  05b1982cdba5d8a00e7e76ad1ecdab0e598429f78481d2...  8/29/2022 11:30   \n",
       "4  017040c61958d2fa977c956b2bd2d6759ef7754496dc96...  7/15/2022 18:50   \n",
       "\n",
       "   POSTED_SPEED_LIMIT TRAFFIC_CONTROL_DEVICE      DEVICE_CONDITION  \\\n",
       "0                  30         TRAFFIC SIGNAL  FUNCTIONING PROPERLY   \n",
       "1                  30            NO CONTROLS           NO CONTROLS   \n",
       "2                  30                UNKNOWN               UNKNOWN   \n",
       "3                  30         TRAFFIC SIGNAL  FUNCTIONING PROPERLY   \n",
       "4                  30         TRAFFIC SIGNAL  FUNCTIONING PROPERLY   \n",
       "\n",
       "  WEATHER_CONDITION LIGHTING_CONDITION FIRST_CRASH_TYPE TRAFFICWAY_TYPE  \\\n",
       "0             CLEAR           DAYLIGHT          TURNING         ONE-WAY   \n",
       "1             CLEAR           DAYLIGHT            ANGLE     NOT DIVIDED   \n",
       "2             CLEAR         POORLY LIT            ANGLE     NOT DIVIDED   \n",
       "3             CLEAR           DAYLIGHT         REAR END        FOUR WAY   \n",
       "4             CLEAR           DAYLIGHT         REAR END     NOT DIVIDED   \n",
       "\n",
       "            ALIGNMENT  ... INJURIES_NO_INDICATION INJURIES_UNKNOWN CRASH_HOUR  \\\n",
       "0  STRAIGHT AND LEVEL  ...                    2.0              0.0         14   \n",
       "1  STRAIGHT AND LEVEL  ...                    2.0              0.0          8   \n",
       "2  STRAIGHT AND LEVEL  ...                    2.0              0.0          0   \n",
       "3  STRAIGHT AND LEVEL  ...                    3.0              0.0         11   \n",
       "4  STRAIGHT AND LEVEL  ...                    2.0              0.0         18   \n",
       "\n",
       "  CRASH_DAY_OF_WEEK CRASH_MONTH   LATITUDE  LONGITUDE  \\\n",
       "0                 2           3  41.884547 -87.641201   \n",
       "1                 4           9  41.968562 -87.740659   \n",
       "2                 6           7  41.886336 -87.716203   \n",
       "3                 2           8  41.749348 -87.721097   \n",
       "4                 6           7  41.925111 -87.667997   \n",
       "\n",
       "                                   LOCATION  CRASH_YEAR SEVERE_INJURY  \n",
       "0   POINT (-87.64120093714 41.884547224337)        2019             1  \n",
       "1  POINT (-87.740659314632 41.968562453871)        2018             0  \n",
       "2  POINT (-87.716203130599 41.886336409761)        2022             0  \n",
       "3  POINT (-87.721096727406 41.749348170421)        2022             0  \n",
       "4  POINT (-87.667997321599 41.925110815832)        2022             0  \n",
       "\n",
       "[5 rows x 39 columns]"
      ]
     },
     "execution_count": 7,
     "metadata": {},
     "output_type": "execute_result"
    }
   ],
   "source": [
    "# create a new column SEVERE_INJURY with 1 for specified categories, 0 otherwise\n",
    "df['SEVERE_INJURY'] = df['MOST_SEVERE_INJURY'].apply(lambda x:\n",
    "    1 if x in ['NONINCAPACITATING INJURY', 'REPORTED, NOT EVIDENT', 'REPORTED', 'INCAPACITATING INJURY', 'FATAL'] else 0)\n",
    "\n",
    "# print the updated DataFrame\n",
    "df.head()"
   ]
  },
  {
   "cell_type": "code",
   "execution_count": 8,
   "id": "97bc8e88",
   "metadata": {},
   "outputs": [
    {
     "data": {
      "text/plain": [
       "(199999, 39)"
      ]
     },
     "execution_count": 8,
     "metadata": {},
     "output_type": "execute_result"
    }
   ],
   "source": [
    "#check the size of the newly created dataframe to verify the number of columns\n",
    "df.shape"
   ]
  },
  {
   "cell_type": "markdown",
   "id": "5c39b822",
   "metadata": {},
   "source": [
    "To check if we have a class imbalance in out dataset, we need to examine the distribution of the target variable. \n",
    "A class imbalance occurs when the distribution of one or more classes is significantly different from the others."
   ]
  },
  {
   "cell_type": "code",
   "execution_count": 9,
   "id": "0ac33dda",
   "metadata": {},
   "outputs": [
    {
     "data": {
      "text/plain": [
       "0    172745\n",
       "1     27254\n",
       "Name: SEVERE_INJURY, dtype: int64"
      ]
     },
     "execution_count": 9,
     "metadata": {},
     "output_type": "execute_result"
    }
   ],
   "source": [
    "#checking if we have a class imbalance\n",
    "\n",
    "class_counts = df['SEVERE_INJURY'].value_counts()\n",
    "class_counts"
   ]
  },
  {
   "cell_type": "code",
   "execution_count": 10,
   "id": "45d5813e",
   "metadata": {},
   "outputs": [
    {
     "data": {
      "text/plain": [
       "0    86.372932\n",
       "1    13.627068\n",
       "dtype: float64"
      ]
     },
     "execution_count": 10,
     "metadata": {},
     "output_type": "execute_result"
    }
   ],
   "source": [
    "#calclulating the percentage of each value\n",
    "\n",
    "class_percentages = pd.Series([(x / df.shape[0]) * 100.00 for x in class_counts])\n",
    "class_percentages"
   ]
  },
  {
   "cell_type": "markdown",
   "id": "5b6cf58e",
   "metadata": {},
   "source": [
    "We have over 80% of data showing the value \"0\". THis indicates a class imbalance"
   ]
  },
  {
   "cell_type": "code",
   "execution_count": 11,
   "id": "22311e1d",
   "metadata": {},
   "outputs": [
    {
     "data": {
      "image/png": "[encoded data removed]",
      "text/plain": [
       "<Figure size 432x288 with 1 Axes>"
      ]
     },
     "metadata": {
      "needs_background": "light"
     },
     "output_type": "display_data"
    }
   ],
   "source": [
    "#To visually inspect class imbalance in a our dataset, we create a bar chart showing \n",
    "#the distribution of the target variable\n",
    "\n",
    "fig, ax = plt.subplots()\n",
    "ax.bar(class_counts.index, class_counts)\n",
    "ax.set_xticks([0, 1])\n",
    "ax.set_xticklabels(class_percentages.index.astype(str) + '\\n' + ' ' +\n",
    "                   class_percentages.round(0).astype(str) + '%')\n",
    "ax.set_ylabel('Count')\n",
    "ax.set_xlabel('Severe Injuries')\n",
    "ax.set_title('Severe Injuries class distribution\\nwhere 1 means presence of severe/serious injury',\n",
    "              fontsize = 10)\n",
    "plt.show()"
   ]
  },
  {
   "cell_type": "markdown",
   "id": "82e2d6bf",
   "metadata": {},
   "source": [
    "Balanced and Imbalanced Classes\n",
    "\n",
    "For a binary classification problem (two classes), the problem is called balanced if the number of elements of each class is about the same--in other words, each class would have a size that is about 50% of the total number of elements in the dataset. In this particular case study, we can say that this problem is imbalanced, since the difference in the percentages is about close to 80%. When there is a imbalance among the classes in a binary classification problem, one usually refers to them as the minority class, and the majority class.\n",
    "\n",
    "There are two important challenges posed by ICPs:\n",
    "\n",
    "    The difference in the size of the classes is inherent to the problem under study. This means that one cannot pave this difference by adding more elements to the minority class.\n",
    "\n",
    "    Classification algorithms are usually negatively affected by the lack of sufficient samples of the minority class, in that the models built with them are practically unable to differentiate the minority class from the majority class, where the former is the one of interest. \n",
    "\n",
    "Since this particular case study deals with an imbalance among the classes, we will not be able to build useful models with the given dataset--without introducing additional interventions. One  approach to deal with ICP is by either generating sythetic data (oversampling), or by generating a set of smaller \"majority classes\" by taking chunks from the original majority class (undersampling). In general, these approaches are collectively referred to as resampling.\n",
    "\n",
    "For this case study, we will use the undersampling technique to balance the classes in our dataset. This will be achieved by removing some of the instances from the over-represented class (0, the absence of severe injuries) to match the number of instances in the under-represented class (1, the presence of severe injuries)\n"
   ]
  },
  {
   "cell_type": "markdown",
   "id": "89412e6b",
   "metadata": {},
   "source": [
    "Now, our dataset is balanced.\n",
    "Next, we will check for null value"
   ]
  },
  {
   "cell_type": "code",
   "execution_count": 12,
   "id": "5634e916",
   "metadata": {},
   "outputs": [
    {
     "name": "stdout",
     "output_type": "stream",
     "text": [
      "CRASH_RECORD_ID                     0\n",
      "CRASH_DATE                          0\n",
      "POSTED_SPEED_LIMIT                  0\n",
      "TRAFFIC_CONTROL_DEVICE              0\n",
      "DEVICE_CONDITION                    0\n",
      "WEATHER_CONDITION                   0\n",
      "LIGHTING_CONDITION                  0\n",
      "FIRST_CRASH_TYPE                    0\n",
      "TRAFFICWAY_TYPE                     0\n",
      "ALIGNMENT                           0\n",
      "ROADWAY_SURFACE_COND                0\n",
      "ROAD_DEFECT                         0\n",
      "REPORT_TYPE                      5244\n",
      "CRASH_TYPE                          0\n",
      "DAMAGE                              0\n",
      "DATE_POLICE_NOTIFIED                0\n",
      "PRIM_CONTRIBUTORY_CAUSE             0\n",
      "SEC_CONTRIBUTORY_CAUSE              0\n",
      "STREET_NO                           0\n",
      "STREET_DIRECTION                    1\n",
      "STREET_NAME                         0\n",
      "BEAT_OF_OCCURRENCE                  3\n",
      "NUM_UNITS                           0\n",
      "MOST_SEVERE_INJURY                445\n",
      "INJURIES_TOTAL                    441\n",
      "INJURIES_FATAL                      0\n",
      "INJURIES_INCAPACITATING           441\n",
      "INJURIES_NON_INCAPACITATING       441\n",
      "INJURIES_REPORTED_NOT_EVIDENT     441\n",
      "INJURIES_NO_INDICATION            441\n",
      "INJURIES_UNKNOWN                  441\n",
      "CRASH_HOUR                          0\n",
      "CRASH_DAY_OF_WEEK                   0\n",
      "CRASH_MONTH                         0\n",
      "LATITUDE                         1395\n",
      "LONGITUDE                        1395\n",
      "LOCATION                         1395\n",
      "CRASH_YEAR                          0\n",
      "SEVERE_INJURY                       0\n",
      "dtype: int64\n"
     ]
    }
   ],
   "source": [
    "print(df.isna().sum())"
   ]
  },
  {
   "cell_type": "code",
   "execution_count": 15,
   "id": "500b78d6",
   "metadata": {},
   "outputs": [],
   "source": [
    "#Fill with the most frequent category: her we will replace the missing values with the mode, \n",
    "#i.e., the most frequent category in the column. This is a good option because the missing values are few and do not \n",
    "#significantly affect the distribution of our data.    \n",
    "\n",
    "df['REPORT_TYPE'].fillna(df['REPORT_TYPE'].mode()[0], inplace=True)\n",
    "df['MOST_SEVERE_INJURY'].fillna(df['MOST_SEVERE_INJURY'].mode()[0], inplace=True)\n",
    "df['INJURIES_TOTAL'].fillna(df['INJURIES_TOTAL'].mode()[0], inplace=True)\n",
    "df['INJURIES_INCAPACITATING'].fillna(df['INJURIES_INCAPACITATING'].mode()[0], inplace=True)\n",
    "df['INJURIES_REPORTED_NOT_EVIDENT'].fillna(df['INJURIES_REPORTED_NOT_EVIDENT'].mode()[0], inplace=True)\n",
    "df['INJURIES_NO_INDICATION'].fillna(df['INJURIES_NO_INDICATION'].mode()[0], inplace=True)\n",
    "df['INJURIES_UNKNOWN'].fillna(df['INJURIES_UNKNOWN'].mode()[0], inplace=True)\n",
    "df['LATITUDE'].fillna(df['LATITUDE'].mode()[0], inplace=True)\n",
    "df['LONGITUDE'].fillna(df['LONGITUDE'].mode()[0], inplace=True)\n",
    "df['LOCATION'].fillna(df['LOCATION'].mode()[0], inplace=True)\n",
    "df['INJURIES_NON_INCAPACITATING'].fillna(df['INJURIES_NON_INCAPACITATING'].mode()[0], inplace=True)\n",
    "df['BEAT_OF_OCCURRENCE'].fillna(df['BEAT_OF_OCCURRENCE'].mode()[0], inplace=True)\n",
    "df['STREET_DIRECTION'].fillna(df['STREET_DIRECTION'].mode()[0], inplace=True)\n",
    "\n",
    "\n",
    " "
   ]
  },
  {
   "cell_type": "code",
   "execution_count": 16,
   "id": "51be9014",
   "metadata": {},
   "outputs": [
    {
     "name": "stdout",
     "output_type": "stream",
     "text": [
      "CRASH_RECORD_ID                  0\n",
      "CRASH_DATE                       0\n",
      "POSTED_SPEED_LIMIT               0\n",
      "TRAFFIC_CONTROL_DEVICE           0\n",
      "DEVICE_CONDITION                 0\n",
      "WEATHER_CONDITION                0\n",
      "LIGHTING_CONDITION               0\n",
      "FIRST_CRASH_TYPE                 0\n",
      "TRAFFICWAY_TYPE                  0\n",
      "ALIGNMENT                        0\n",
      "ROADWAY_SURFACE_COND             0\n",
      "ROAD_DEFECT                      0\n",
      "REPORT_TYPE                      0\n",
      "CRASH_TYPE                       0\n",
      "DAMAGE                           0\n",
      "DATE_POLICE_NOTIFIED             0\n",
      "PRIM_CONTRIBUTORY_CAUSE          0\n",
      "SEC_CONTRIBUTORY_CAUSE           0\n",
      "STREET_NO                        0\n",
      "STREET_DIRECTION                 0\n",
      "STREET_NAME                      0\n",
      "BEAT_OF_OCCURRENCE               0\n",
      "NUM_UNITS                        0\n",
      "MOST_SEVERE_INJURY               0\n",
      "INJURIES_TOTAL                   0\n",
      "INJURIES_FATAL                   0\n",
      "INJURIES_INCAPACITATING          0\n",
      "INJURIES_NON_INCAPACITATING      0\n",
      "INJURIES_REPORTED_NOT_EVIDENT    0\n",
      "INJURIES_NO_INDICATION           0\n",
      "INJURIES_UNKNOWN                 0\n",
      "CRASH_HOUR                       0\n",
      "CRASH_DAY_OF_WEEK                0\n",
      "CRASH_MONTH                      0\n",
      "LATITUDE                         0\n",
      "LONGITUDE                        0\n",
      "LOCATION                         0\n",
      "CRASH_YEAR                       0\n",
      "SEVERE_INJURY                    0\n",
      "dtype: int64\n"
     ]
    }
   ],
   "source": [
    "print(df.isna().sum())"
   ]
  },
  {
   "cell_type": "code",
   "execution_count": 17,
   "id": "6b414d2d",
   "metadata": {},
   "outputs": [
    {
     "data": {
      "text/plain": [
       "(199999, 39)"
      ]
     },
     "execution_count": 17,
     "metadata": {},
     "output_type": "execute_result"
    }
   ],
   "source": [
    "df.shape"
   ]
  },
  {
   "cell_type": "code",
   "execution_count": 18,
   "id": "50bf5c07",
   "metadata": {},
   "outputs": [
    {
     "name": "stdout",
     "output_type": "stream",
     "text": [
      "Index(['CRASH_RECORD_ID', 'CRASH_DATE', 'POSTED_SPEED_LIMIT',\n",
      "       'TRAFFIC_CONTROL_DEVICE', 'DEVICE_CONDITION', 'WEATHER_CONDITION',\n",
      "       'LIGHTING_CONDITION', 'FIRST_CRASH_TYPE', 'TRAFFICWAY_TYPE',\n",
      "       'ALIGNMENT', 'ROADWAY_SURFACE_COND', 'ROAD_DEFECT', 'REPORT_TYPE',\n",
      "       'CRASH_TYPE', 'DAMAGE', 'DATE_POLICE_NOTIFIED',\n",
      "       'PRIM_CONTRIBUTORY_CAUSE', 'SEC_CONTRIBUTORY_CAUSE', 'STREET_NO',\n",
      "       'STREET_DIRECTION', 'STREET_NAME', 'BEAT_OF_OCCURRENCE', 'NUM_UNITS',\n",
      "       'MOST_SEVERE_INJURY', 'INJURIES_TOTAL', 'INJURIES_FATAL',\n",
      "       'INJURIES_INCAPACITATING', 'INJURIES_NON_INCAPACITATING',\n",
      "       'INJURIES_REPORTED_NOT_EVIDENT', 'INJURIES_NO_INDICATION',\n",
      "       'INJURIES_UNKNOWN', 'CRASH_HOUR', 'CRASH_DAY_OF_WEEK', 'CRASH_MONTH',\n",
      "       'LATITUDE', 'LONGITUDE', 'LOCATION', 'CRASH_YEAR', 'SEVERE_INJURY'],\n",
      "      dtype='object')\n"
     ]
    }
   ],
   "source": [
    "print(df.columns)"
   ]
  },
  {
   "cell_type": "code",
   "execution_count": 19,
   "id": "70797f64",
   "metadata": {},
   "outputs": [
    {
     "data": {
      "image/png": "[encoded data removed]",
      "text/plain": [
       "<Figure size 2160x1440 with 2 Axes>"
      ]
     },
     "metadata": {
      "needs_background": "light"
     },
     "output_type": "display_data"
    }
   ],
   "source": [
    "features = ['POSTED_SPEED_LIMIT', 'TRAFFIC_CONTROL_DEVICE', 'DEVICE_CONDITION', 'WEATHER_CONDITION', 'LIGHTING_CONDITION', 'FIRST_CRASH_TYPE', 'TRAFFICWAY_TYPE', 'ALIGNMENT', 'ROADWAY_SURFACE_COND', 'ROAD_DEFECT', 'CRASH_TYPE', 'DAMAGE', 'PRIM_CONTRIBUTORY_CAUSE', 'SEC_CONTRIBUTORY_CAUSE', 'STREET_NO', 'STREET_DIRECTION', 'STREET_NAME', 'BEAT_OF_OCCURRENCE', 'NUM_UNITS', 'CRASH_HOUR', 'CRASH_DAY_OF_WEEK', 'CRASH_MONTH', 'LATITUDE', 'LONGITUDE','SEVERE_INJURY']\n",
    "\n",
    "df_corr = df[features]\n",
    "\n",
    "# Create correlation matrix\n",
    "corr_matrix = df_corr.corr()\n",
    "\n",
    "# Create heatmap\n",
    "plt.subplots(figsize=(30,20))\n",
    "sns.heatmap(corr_matrix, annot=True, cmap='coolwarm')\n",
    "\n",
    "# Show plot\n",
    "plt.show()"
   ]
  },
  {
   "cell_type": "code",
   "execution_count": 20,
   "id": "0f98487f",
   "metadata": {},
   "outputs": [
    {
     "name": "stdout",
     "output_type": "stream",
     "text": [
      "Index(['CRASH_RECORD_ID', 'CRASH_DATE', 'POSTED_SPEED_LIMIT',\n",
      "       'TRAFFIC_CONTROL_DEVICE', 'DEVICE_CONDITION', 'WEATHER_CONDITION',\n",
      "       'LIGHTING_CONDITION', 'FIRST_CRASH_TYPE', 'TRAFFICWAY_TYPE',\n",
      "       'ALIGNMENT', 'ROADWAY_SURFACE_COND', 'ROAD_DEFECT', 'REPORT_TYPE',\n",
      "       'CRASH_TYPE', 'DAMAGE', 'DATE_POLICE_NOTIFIED',\n",
      "       'PRIM_CONTRIBUTORY_CAUSE', 'SEC_CONTRIBUTORY_CAUSE', 'STREET_NO',\n",
      "       'STREET_DIRECTION', 'STREET_NAME', 'BEAT_OF_OCCURRENCE', 'NUM_UNITS',\n",
      "       'MOST_SEVERE_INJURY', 'INJURIES_TOTAL', 'INJURIES_FATAL',\n",
      "       'INJURIES_INCAPACITATING', 'INJURIES_NON_INCAPACITATING',\n",
      "       'INJURIES_REPORTED_NOT_EVIDENT', 'INJURIES_NO_INDICATION',\n",
      "       'INJURIES_UNKNOWN', 'CRASH_HOUR', 'CRASH_DAY_OF_WEEK', 'CRASH_MONTH',\n",
      "       'LATITUDE', 'LONGITUDE', 'LOCATION', 'CRASH_YEAR', 'SEVERE_INJURY'],\n",
      "      dtype='object')\n"
     ]
    }
   ],
   "source": [
    "print(df.columns)"
   ]
  },
  {
   "cell_type": "markdown",
   "id": "1597d228",
   "metadata": {},
   "source": [
    "# 3. Creating dummy features"
   ]
  },
  {
   "cell_type": "raw",
   "id": "77c17ae0",
   "metadata": {},
   "source": [
    "Dummy encoding is appropriate when the categorical variable is binary (i.e., has only two levels) or when the variable has multiple levels but there is no natural ordering or hierarchy among the levels. In dummy encoding, a binary variable is created for each level of the categorical variable, where 1 indicates the presence of that level and 0 indicates the absence. This results in a matrix of 0s and 1s.\n",
    "\n",
    "One-hot encoding is appropriate when the categorical variable has multiple levels and there is a natural ordering or hierarchy among the levels. In one-hot encoding, a binary variable is created for each level of the categorical variable, but unlike in dummy encoding, only one variable can be 1 for each observation. This results in a matrix of 0s and 1s, where each row represents an observation and each column represents a level of the categorical variable.\n",
    "\n",
    "For this project, one-hot encoding is more appropriate because it allows for a wider range of possible relationships between the levels of the categorical variable. \n",
    "\n",
    "Note: for this case study we use label encoding to avoid allocation of large space for the dataframe resulting from one-hot encoding"
   ]
  },
  {
   "cell_type": "code",
   "execution_count": 21,
   "id": "eabc4a05",
   "metadata": {},
   "outputs": [
    {
     "name": "stdout",
     "output_type": "stream",
     "text": [
      "The categorical Columns are:  ['CRASH_RECORD_ID', 'CRASH_DATE', 'TRAFFIC_CONTROL_DEVICE', 'DEVICE_CONDITION', 'WEATHER_CONDITION', 'LIGHTING_CONDITION', 'FIRST_CRASH_TYPE', 'TRAFFICWAY_TYPE', 'ALIGNMENT', 'ROADWAY_SURFACE_COND', 'ROAD_DEFECT', 'REPORT_TYPE', 'CRASH_TYPE', 'DAMAGE', 'DATE_POLICE_NOTIFIED', 'PRIM_CONTRIBUTORY_CAUSE', 'SEC_CONTRIBUTORY_CAUSE', 'STREET_DIRECTION', 'STREET_NAME', 'MOST_SEVERE_INJURY', 'LOCATION']\n"
     ]
    }
   ],
   "source": [
    "#categorical = balanced_data.select_dtypes(include=['object']).columns.tolist()\n",
    "categorical =df.select_dtypes(include=['object']).columns.tolist()\n",
    "# Print the list of categorical columns\n",
    "print(\"The categorical Columns are: \", categorical)\n"
   ]
  },
  {
   "cell_type": "code",
   "execution_count": 22,
   "id": "80433ff7",
   "metadata": {},
   "outputs": [],
   "source": [
    "from sklearn.preprocessing import LabelEncoder\n",
    "# Create a LabelEncoder object\n",
    "le = LabelEncoder()\n",
    "\n",
    "# Loop over each categorical variable and encode its values\n",
    "#for col in categorical :\n",
    "    #balanced_data[col] = le.fit_transform(balanced_data[col].astype(str))\n",
    "for col in categorical :\n",
    "    df[col] = le.fit_transform(df[col].astype(str))"
   ]
  },
  {
   "cell_type": "code",
   "execution_count": 23,
   "id": "f101fa98",
   "metadata": {},
   "outputs": [
    {
     "data": {
      "text/html": [
       "<div>\n",
       "<style scoped>\n",
       "    .dataframe tbody tr th:only-of-type {\n",
       "        vertical-align: middle;\n",
       "    }\n",
       "\n",
       "    .dataframe tbody tr th {\n",
       "        vertical-align: top;\n",
       "    }\n",
       "\n",
       "    .dataframe thead th {\n",
       "        text-align: right;\n",
       "    }\n",
       "</style>\n",
       "<table border=\"1\" class=\"dataframe\">\n",
       "  <thead>\n",
       "    <tr style=\"text-align: right;\">\n",
       "      <th></th>\n",
       "      <th>CRASH_RECORD_ID</th>\n",
       "      <th>CRASH_DATE</th>\n",
       "      <th>POSTED_SPEED_LIMIT</th>\n",
       "      <th>TRAFFIC_CONTROL_DEVICE</th>\n",
       "      <th>DEVICE_CONDITION</th>\n",
       "      <th>WEATHER_CONDITION</th>\n",
       "      <th>LIGHTING_CONDITION</th>\n",
       "      <th>FIRST_CRASH_TYPE</th>\n",
       "      <th>TRAFFICWAY_TYPE</th>\n",
       "      <th>ALIGNMENT</th>\n",
       "      <th>...</th>\n",
       "      <th>INJURIES_NO_INDICATION</th>\n",
       "      <th>INJURIES_UNKNOWN</th>\n",
       "      <th>CRASH_HOUR</th>\n",
       "      <th>CRASH_DAY_OF_WEEK</th>\n",
       "      <th>CRASH_MONTH</th>\n",
       "      <th>LATITUDE</th>\n",
       "      <th>LONGITUDE</th>\n",
       "      <th>LOCATION</th>\n",
       "      <th>CRASH_YEAR</th>\n",
       "      <th>SEVERE_INJURY</th>\n",
       "    </tr>\n",
       "  </thead>\n",
       "  <tbody>\n",
       "    <tr>\n",
       "      <th>0</th>\n",
       "      <td>129328</td>\n",
       "      <td>72683</td>\n",
       "      <td>30</td>\n",
       "      <td>16</td>\n",
       "      <td>1</td>\n",
       "      <td>2</td>\n",
       "      <td>2</td>\n",
       "      <td>17</td>\n",
       "      <td>10</td>\n",
       "      <td>3</td>\n",
       "      <td>...</td>\n",
       "      <td>2.0</td>\n",
       "      <td>0.0</td>\n",
       "      <td>14</td>\n",
       "      <td>2</td>\n",
       "      <td>3</td>\n",
       "      <td>41.884547</td>\n",
       "      <td>-87.641201</td>\n",
       "      <td>29035</td>\n",
       "      <td>2019</td>\n",
       "      <td>1</td>\n",
       "    </tr>\n",
       "    <tr>\n",
       "      <th>1</th>\n",
       "      <td>127783</td>\n",
       "      <td>164940</td>\n",
       "      <td>30</td>\n",
       "      <td>4</td>\n",
       "      <td>3</td>\n",
       "      <td>2</td>\n",
       "      <td>2</td>\n",
       "      <td>0</td>\n",
       "      <td>8</td>\n",
       "      <td>3</td>\n",
       "      <td>...</td>\n",
       "      <td>2.0</td>\n",
       "      <td>0.0</td>\n",
       "      <td>8</td>\n",
       "      <td>4</td>\n",
       "      <td>9</td>\n",
       "      <td>41.968562</td>\n",
       "      <td>-87.740659</td>\n",
       "      <td>93839</td>\n",
       "      <td>2018</td>\n",
       "      <td>0</td>\n",
       "    </tr>\n",
       "    <tr>\n",
       "      <th>2</th>\n",
       "      <td>2664</td>\n",
       "      <td>121108</td>\n",
       "      <td>30</td>\n",
       "      <td>17</td>\n",
       "      <td>6</td>\n",
       "      <td>2</td>\n",
       "      <td>4</td>\n",
       "      <td>0</td>\n",
       "      <td>8</td>\n",
       "      <td>3</td>\n",
       "      <td>...</td>\n",
       "      <td>2.0</td>\n",
       "      <td>0.0</td>\n",
       "      <td>0</td>\n",
       "      <td>6</td>\n",
       "      <td>7</td>\n",
       "      <td>41.886336</td>\n",
       "      <td>-87.716203</td>\n",
       "      <td>80760</td>\n",
       "      <td>2022</td>\n",
       "      <td>0</td>\n",
       "    </tr>\n",
       "    <tr>\n",
       "      <th>3</th>\n",
       "      <td>14495</td>\n",
       "      <td>147605</td>\n",
       "      <td>30</td>\n",
       "      <td>16</td>\n",
       "      <td>1</td>\n",
       "      <td>2</td>\n",
       "      <td>2</td>\n",
       "      <td>10</td>\n",
       "      <td>6</td>\n",
       "      <td>3</td>\n",
       "      <td>...</td>\n",
       "      <td>3.0</td>\n",
       "      <td>0.0</td>\n",
       "      <td>11</td>\n",
       "      <td>2</td>\n",
       "      <td>8</td>\n",
       "      <td>41.749348</td>\n",
       "      <td>-87.721097</td>\n",
       "      <td>83491</td>\n",
       "      <td>2022</td>\n",
       "      <td>0</td>\n",
       "    </tr>\n",
       "    <tr>\n",
       "      <th>4</th>\n",
       "      <td>3569</td>\n",
       "      <td>121243</td>\n",
       "      <td>30</td>\n",
       "      <td>16</td>\n",
       "      <td>1</td>\n",
       "      <td>2</td>\n",
       "      <td>2</td>\n",
       "      <td>10</td>\n",
       "      <td>8</td>\n",
       "      <td>3</td>\n",
       "      <td>...</td>\n",
       "      <td>2.0</td>\n",
       "      <td>0.0</td>\n",
       "      <td>18</td>\n",
       "      <td>6</td>\n",
       "      <td>7</td>\n",
       "      <td>41.925111</td>\n",
       "      <td>-87.667997</td>\n",
       "      <td>48820</td>\n",
       "      <td>2022</td>\n",
       "      <td>0</td>\n",
       "    </tr>\n",
       "  </tbody>\n",
       "</table>\n",
       "<p>5 rows × 39 columns</p>\n",
       "</div>"
      ],
      "text/plain": [
       "   CRASH_RECORD_ID  CRASH_DATE  POSTED_SPEED_LIMIT  TRAFFIC_CONTROL_DEVICE  \\\n",
       "0           129328       72683                  30                      16   \n",
       "1           127783      164940                  30                       4   \n",
       "2             2664      121108                  30                      17   \n",
       "3            14495      147605                  30                      16   \n",
       "4             3569      121243                  30                      16   \n",
       "\n",
       "   DEVICE_CONDITION  WEATHER_CONDITION  LIGHTING_CONDITION  FIRST_CRASH_TYPE  \\\n",
       "0                 1                  2                   2                17   \n",
       "1                 3                  2                   2                 0   \n",
       "2                 6                  2                   4                 0   \n",
       "3                 1                  2                   2                10   \n",
       "4                 1                  2                   2                10   \n",
       "\n",
       "   TRAFFICWAY_TYPE  ALIGNMENT  ...  INJURIES_NO_INDICATION  INJURIES_UNKNOWN  \\\n",
       "0               10          3  ...                     2.0               0.0   \n",
       "1                8          3  ...                     2.0               0.0   \n",
       "2                8          3  ...                     2.0               0.0   \n",
       "3                6          3  ...                     3.0               0.0   \n",
       "4                8          3  ...                     2.0               0.0   \n",
       "\n",
       "   CRASH_HOUR  CRASH_DAY_OF_WEEK  CRASH_MONTH   LATITUDE  LONGITUDE  LOCATION  \\\n",
       "0          14                  2            3  41.884547 -87.641201     29035   \n",
       "1           8                  4            9  41.968562 -87.740659     93839   \n",
       "2           0                  6            7  41.886336 -87.716203     80760   \n",
       "3          11                  2            8  41.749348 -87.721097     83491   \n",
       "4          18                  6            7  41.925111 -87.667997     48820   \n",
       "\n",
       "   CRASH_YEAR  SEVERE_INJURY  \n",
       "0        2019              1  \n",
       "1        2018              0  \n",
       "2        2022              0  \n",
       "3        2022              0  \n",
       "4        2022              0  \n",
       "\n",
       "[5 rows x 39 columns]"
      ]
     },
     "execution_count": 23,
     "metadata": {},
     "output_type": "execute_result"
    }
   ],
   "source": [
    "df.head()"
   ]
  },
  {
   "cell_type": "code",
   "execution_count": 24,
   "id": "3456e674",
   "metadata": {},
   "outputs": [
    {
     "name": "stdout",
     "output_type": "stream",
     "text": [
      "<class 'pandas.core.frame.DataFrame'>\n",
      "RangeIndex: 199999 entries, 0 to 199998\n",
      "Data columns (total 39 columns):\n",
      " #   Column                         Non-Null Count   Dtype  \n",
      "---  ------                         --------------   -----  \n",
      " 0   CRASH_RECORD_ID                199999 non-null  int32  \n",
      " 1   CRASH_DATE                     199999 non-null  int32  \n",
      " 2   POSTED_SPEED_LIMIT             199999 non-null  int64  \n",
      " 3   TRAFFIC_CONTROL_DEVICE         199999 non-null  int32  \n",
      " 4   DEVICE_CONDITION               199999 non-null  int32  \n",
      " 5   WEATHER_CONDITION              199999 non-null  int32  \n",
      " 6   LIGHTING_CONDITION             199999 non-null  int32  \n",
      " 7   FIRST_CRASH_TYPE               199999 non-null  int32  \n",
      " 8   TRAFFICWAY_TYPE                199999 non-null  int32  \n",
      " 9   ALIGNMENT                      199999 non-null  int32  \n",
      " 10  ROADWAY_SURFACE_COND           199999 non-null  int32  \n",
      " 11  ROAD_DEFECT                    199999 non-null  int32  \n",
      " 12  REPORT_TYPE                    199999 non-null  int32  \n",
      " 13  CRASH_TYPE                     199999 non-null  int32  \n",
      " 14  DAMAGE                         199999 non-null  int32  \n",
      " 15  DATE_POLICE_NOTIFIED           199999 non-null  int32  \n",
      " 16  PRIM_CONTRIBUTORY_CAUSE        199999 non-null  int32  \n",
      " 17  SEC_CONTRIBUTORY_CAUSE         199999 non-null  int32  \n",
      " 18  STREET_NO                      199999 non-null  int64  \n",
      " 19  STREET_DIRECTION               199999 non-null  int32  \n",
      " 20  STREET_NAME                    199999 non-null  int32  \n",
      " 21  BEAT_OF_OCCURRENCE             199999 non-null  float64\n",
      " 22  NUM_UNITS                      199999 non-null  int64  \n",
      " 23  MOST_SEVERE_INJURY             199999 non-null  int32  \n",
      " 24  INJURIES_TOTAL                 199999 non-null  float64\n",
      " 25  INJURIES_FATAL                 199999 non-null  float64\n",
      " 26  INJURIES_INCAPACITATING        199999 non-null  float64\n",
      " 27  INJURIES_NON_INCAPACITATING    199999 non-null  float64\n",
      " 28  INJURIES_REPORTED_NOT_EVIDENT  199999 non-null  float64\n",
      " 29  INJURIES_NO_INDICATION         199999 non-null  float64\n",
      " 30  INJURIES_UNKNOWN               199999 non-null  float64\n",
      " 31  CRASH_HOUR                     199999 non-null  int64  \n",
      " 32  CRASH_DAY_OF_WEEK              199999 non-null  int64  \n",
      " 33  CRASH_MONTH                    199999 non-null  int64  \n",
      " 34  LATITUDE                       199999 non-null  float64\n",
      " 35  LONGITUDE                      199999 non-null  float64\n",
      " 36  LOCATION                       199999 non-null  int32  \n",
      " 37  CRASH_YEAR                     199999 non-null  int64  \n",
      " 38  SEVERE_INJURY                  199999 non-null  int64  \n",
      "dtypes: float64(10), int32(21), int64(8)\n",
      "memory usage: 43.5 MB\n"
     ]
    }
   ],
   "source": [
    "df.info()"
   ]
  },
  {
   "cell_type": "markdown",
   "id": "69b8ab25",
   "metadata": {},
   "source": [
    "# 4. Split data into training and testing subsets"
   ]
  },
  {
   "cell_type": "code",
   "execution_count": 65,
   "id": "e94172e4",
   "metadata": {},
   "outputs": [],
   "source": [
    "from sklearn.model_selection import train_test_split\n",
    "\n",
    "# Define the features and target variable\n",
    "columns=[\"SEVERE_INJURY\", \"INJURIES_TOTAL\", \"MOST_SEVERE_INJURY\"]\n",
    "#X = balanced_data.drop(columns, axis=1) # except the target\n",
    "\n",
    "X = df.drop(columns, axis=1) # except the target\n",
    "#X = df\n",
    "#y = balanced_data['SEVERE_INJURY'] # target variable\n",
    "y = df['SEVERE_INJURY'] # target variable"
   ]
  },
  {
   "cell_type": "code",
   "execution_count": 66,
   "id": "9c02cca3",
   "metadata": {},
   "outputs": [
    {
     "name": "stdout",
     "output_type": "stream",
     "text": [
      "Training target statistics: Counter({0: 120947, 1: 19052})\n",
      "Testing target statistics: Counter({0: 51798, 1: 8202})\n"
     ]
    }
   ],
   "source": [
    "# Split the dataset into training and testing sets\n",
    "from sklearn.model_selection import train_test_split\n",
    "from collections import Counter\n",
    "\n",
    "X_train, X_test, y_train, y_test = train_test_split(X, y, test_size=0.3, random_state=42)\n",
    "print(f\"Training target statistics: {Counter(y_train)}\")\n",
    "print(f\"Testing target statistics: {Counter(y_test)}\")"
   ]
  },
  {
   "cell_type": "code",
   "execution_count": 67,
   "id": "e3dd4bae",
   "metadata": {},
   "outputs": [
    {
     "name": "stdout",
     "output_type": "stream",
     "text": [
      "Training target statistics: Counter({0: 19052, 1: 19052})\n"
     ]
    }
   ],
   "source": [
    "from imblearn.under_sampling import RandomUnderSampler\n",
    "\n",
    "under_sampler = RandomUnderSampler(random_state=42)\n",
    "X_res_train, y_res_train = under_sampler.fit_resample(X_train, y_train)\n",
    "print(f\"Training target statistics: {Counter(y_res_train)}\")\n",
    "#print(f\"Testing target statistics: {Counter(X_res_train)}\")"
   ]
  },
  {
   "cell_type": "code",
   "execution_count": 68,
   "id": "bf25cf9b",
   "metadata": {},
   "outputs": [],
   "source": [
    "from sklearn.preprocessing import StandardScaler\n",
    "\n",
    "#feature scaling\n",
    "scaler = StandardScaler()\n",
    "X_res_train=scaler.fit_transform(X_res_train)\n",
    "#X_Test just gets transformed\n",
    "X_test=scaler.transform(X_test)"
   ]
  },
  {
   "cell_type": "markdown",
   "id": "5f1051f1",
   "metadata": {},
   "source": [
    "# 5. Modeling"
   ]
  },
  {
   "cell_type": "markdown",
   "id": "0cb4b3a4",
   "metadata": {},
   "source": [
    "## 5.1 KNN Classifier"
   ]
  },
  {
   "cell_type": "markdown",
   "id": "7711fc85",
   "metadata": {},
   "source": [
    "The KNN Classifier is a simple algorithm that we can use to classify our data points based on the classes of their k nearest neighbors in the feature space. The value of k is a hyperparameter that needs to be specified before training the model. The KNN algorithm assumes that similar data points belong to the same class. To classify a new data point, the algorithm looks for the k nearest data points in the feature space and assigns the class that appears most frequently among those k neighbors. \n",
    "Even though the KNN algorithm is easy to implement, it can be slow and memory-intensive when dealing with large datasets."
   ]
  },
  {
   "cell_type": "code",
   "execution_count": 74,
   "id": "ed5e8d07",
   "metadata": {},
   "outputs": [
    {
     "name": "stdout",
     "output_type": "stream",
     "text": [
      "Accuracy of KNN model is: 0.94165\n"
     ]
    }
   ],
   "source": [
    "from sklearn.neighbors import KNeighborsClassifier\n",
    "from sklearn.metrics import accuracy_score\n",
    "\n",
    "#create a KNN classifier with k=5\n",
    "knn = KNeighborsClassifier(n_neighbors=5)\n",
    "\n",
    "# fit the model to the training data\n",
    "knn.fit(X_res_train, y_res_train)\n",
    "\n",
    "# predict the class labels for the test data\n",
    "y_pred = knn.predict(X_test)\n",
    "\n",
    "# calculate the accuracy of the model\n",
    "accuracy_knn = accuracy_score(y_test, y_pred)\n",
    "print('Accuracy of KNN model is:', accuracy)"
   ]
  },
  {
   "cell_type": "code",
   "execution_count": 75,
   "id": "9d1b1ad0",
   "metadata": {},
   "outputs": [
    {
     "name": "stdout",
     "output_type": "stream",
     "text": [
      "[0.9622915  0.96628202 0.96713061 0.96466346 0.9645844 ]\n",
      "Mean cross validation test score: 0.9649903991416842\n",
      "Mean cross validation train score: 0.9873766058787258\n",
      "Standard deviation in cv scores: 0.00166160060829333\n"
     ]
    }
   ],
   "source": [
    "#Cross Validation\n",
    "\n",
    "cv_scores_test= cross_val_score(knn,X_test,y_test,cv=5,scoring='roc_auc')\n",
    "cv_scores_train= cross_val_score(knn,X_res_train,y_res_train,cv=5,scoring='roc_auc')\n",
    "print(cv_scores_test)\n",
    "cv_scores_knn_test= cv_scores_test.mean()\n",
    "cv_scores_knn_train= cv_scores_train.mean()\n",
    "cv_scores_std_knn= cv_scores_test.std()\n",
    "print ('Mean cross validation test score: ' +str(cv_scores_knn_test))\n",
    "print ('Mean cross validation train score: ' +str(cv_scores_knn_train))\n",
    "print ('Standard deviation in cv scores: ' +str(cv_scores_std_knn))"
   ]
  },
  {
   "cell_type": "markdown",
   "id": "0e5d8a16",
   "metadata": {},
   "source": [
    "## 5.2. Fit Random Forest Classifier"
   ]
  },
  {
   "cell_type": "code",
   "execution_count": 80,
   "id": "06f078c5",
   "metadata": {},
   "outputs": [
    {
     "name": "stdout",
     "output_type": "stream",
     "text": [
      "[[48751  3047]\n",
      " [    2  8200]]\n",
      "0.9491833333333334\n"
     ]
    }
   ],
   "source": [
    "from sklearn.ensemble import RandomForestClassifier\n",
    "# Create an instance of the Random Forest Classifier\n",
    "rfc = RandomForestClassifier(n_estimators=100, max_depth=5)\n",
    "\n",
    "# Fit the classifier to the training data\n",
    "rfc.fit(X_res_train, y_res_train)\n",
    "\n",
    "#Predict using the model:\n",
    "\n",
    "y_predict_rfc = rfc.predict(X_test)\n",
    "\n",
    "#Confusion matrix:\n",
    "\n",
    "cnf_matrix = confusion_matrix(y_test, y_predict_rfc)\n",
    "print(cnf_matrix)\n",
    "Accuracy_rfc=rfc.score(X_test,y_test)\n",
    "print(Accuracy_rfc)"
   ]
  },
  {
   "cell_type": "code",
   "execution_count": 81,
   "id": "97e92a16",
   "metadata": {},
   "outputs": [
    {
     "name": "stdout",
     "output_type": "stream",
     "text": [
      "[1.         1.         0.99999953 1.         0.99999935]\n",
      "Mean cross validation test score: 0.9999997764107025\n",
      "Mean cross validation train score: 0.9999446961063082\n",
      "Standard deviation in cv scores: 2.794534885499091e-07\n"
     ]
    }
   ],
   "source": [
    "from sklearn.model_selection import cross_val_score\n",
    "#from sklearn.model_selection import train_test_split\n",
    "\n",
    "cv_scores_test= cross_val_score(rfc,X_test,y_test,cv=5,scoring='roc_auc')\n",
    "cv_scores_train= cross_val_score(rfc,X_res_train,y_res_train,cv=5,scoring='roc_auc')\n",
    "print(cv_scores_test)\n",
    "cv_scores_rfc_test= cv_scores_test.mean()\n",
    "cv_scores_rfc_train= cv_scores_train.mean()\n",
    "cv_scores_std_rfc= cv_scores_test.std()\n",
    "print ('Mean cross validation test score: ' +str(cv_scores_rfc_test))\n",
    "print ('Mean cross validation train score: ' +str(cv_scores_rfc_train))\n",
    "print ('Standard deviation in cv scores: ' +str(cv_scores_std_rfc))"
   ]
  },
  {
   "cell_type": "code",
   "execution_count": 82,
   "id": "9f1f9684",
   "metadata": {},
   "outputs": [
    {
     "data": {
      "image/png": "[encoded data removed]",
      "text/plain": [
       "<Figure size 720x576 with 1 Axes>"
      ]
     },
     "metadata": {
      "needs_background": "light"
     },
     "output_type": "display_data"
    }
   ],
   "source": [
    "#clf = RandomForestClassifier()\n",
    "#clf.fit(X_res_train, y_res_train)\n",
    "\n",
    "# get feature importances\n",
    "importances = rfc.feature_importances_\n",
    "\n",
    "# create a pandas dataframe of feature importances\n",
    "feat_importances = pd.DataFrame(importances, index=X_train.columns, columns=['Importance'])\n",
    "\n",
    "# sort the dataframe by feature importance\n",
    "feat_importances = feat_importances.sort_values(by='Importance')\n",
    "\n",
    "# plot feature importances\n",
    "feat_importances.plot(kind='barh', figsize=(10, 8))\n",
    "\n",
    "plt.xlabel('Feature Importance Score')\n",
    "plt.ylabel('Features')\n",
    "plt.title(\"Visualizing Important Features\")\n",
    "plt.show()\n"
   ]
  },
  {
   "cell_type": "markdown",
   "id": "e49fbb5c",
   "metadata": {},
   "source": [
    "Overall, the result above suggest that the model is performing very well, with high accuracy and consistent performance across different folds. \n",
    "Note: These results are based on the specific data and cross-validation procedure used, and may not necessarily generalize to new data."
   ]
  },
  {
   "cell_type": "markdown",
   "id": "4b95a8d3",
   "metadata": {},
   "source": [
    "## 5.3 LogisticRegression"
   ]
  },
  {
   "cell_type": "code",
   "execution_count": 90,
   "id": "d927c885",
   "metadata": {},
   "outputs": [
    {
     "name": "stdout",
     "output_type": "stream",
     "text": [
      "Accuracy of logistic regression model is: 1.0\n"
     ]
    }
   ],
   "source": [
    "#create a logistic regression model\n",
    "lr = LogisticRegression()\n",
    "\n",
    "# fit the model to the training data\n",
    "lr.fit(X_res_train, y_res_train)\n",
    "\n",
    "# predict the class labels for the test data\n",
    "lr_y_pred = lr.predict(X_test)\n",
    "\n",
    "# calculate the accuracy of the model\n",
    "accuracy_lr = accuracy_score(y_test, lr_y_pred)\n",
    "print('Accuracy of logistic regression model is:', accuracy_lr)"
   ]
  },
  {
   "cell_type": "code",
   "execution_count": 92,
   "id": "4dec1ffd",
   "metadata": {},
   "outputs": [
    {
     "data": {
      "text/html": [
       "<div>\n",
       "<style scoped>\n",
       "    .dataframe tbody tr th:only-of-type {\n",
       "        vertical-align: middle;\n",
       "    }\n",
       "\n",
       "    .dataframe tbody tr th {\n",
       "        vertical-align: top;\n",
       "    }\n",
       "\n",
       "    .dataframe thead th {\n",
       "        text-align: right;\n",
       "    }\n",
       "</style>\n",
       "<table border=\"1\" class=\"dataframe\">\n",
       "  <thead>\n",
       "    <tr style=\"text-align: right;\">\n",
       "      <th></th>\n",
       "      <th>C_parameter</th>\n",
       "      <th>Accuracy</th>\n",
       "    </tr>\n",
       "  </thead>\n",
       "  <tbody>\n",
       "    <tr>\n",
       "      <th>0</th>\n",
       "      <td>0.001</td>\n",
       "      <td>0.976833</td>\n",
       "    </tr>\n",
       "    <tr>\n",
       "      <th>1</th>\n",
       "      <td>0.010</td>\n",
       "      <td>0.999983</td>\n",
       "    </tr>\n",
       "    <tr>\n",
       "      <th>2</th>\n",
       "      <td>0.100</td>\n",
       "      <td>1.0</td>\n",
       "    </tr>\n",
       "    <tr>\n",
       "      <th>3</th>\n",
       "      <td>1.000</td>\n",
       "      <td>1.0</td>\n",
       "    </tr>\n",
       "    <tr>\n",
       "      <th>4</th>\n",
       "      <td>10.000</td>\n",
       "      <td>1.0</td>\n",
       "    </tr>\n",
       "    <tr>\n",
       "      <th>5</th>\n",
       "      <td>100.000</td>\n",
       "      <td>1.0</td>\n",
       "    </tr>\n",
       "  </tbody>\n",
       "</table>\n",
       "</div>"
      ],
      "text/plain": [
       "   C_parameter  Accuracy\n",
       "0        0.001  0.976833\n",
       "1        0.010  0.999983\n",
       "2        0.100       1.0\n",
       "3        1.000       1.0\n",
       "4       10.000       1.0\n",
       "5      100.000       1.0"
      ]
     },
     "execution_count": 92,
     "metadata": {},
     "output_type": "execute_result"
    }
   ],
   "source": [
    "C_param_range = [0.001,0.01,0.1,1,10,100]\n",
    "\n",
    "table = pd.DataFrame(columns = ['C_parameter','Accuracy'])\n",
    "table['C_parameter'] = C_param_range\n",
    "\n",
    "\n",
    "j = 0\n",
    "for i in C_param_range:\n",
    "    \n",
    "    # Apply logistic regression model to training data\n",
    "    Logreg = LogisticRegression(penalty = 'l2', C = i,random_state = 40)\n",
    "    Logreg.fit(X_res_train,y_res_train)\n",
    "    \n",
    "    # Predict using model\n",
    "    y_pred_lr = Logreg.predict(X_test)\n",
    "    \n",
    "    # Saving accuracy score in table\n",
    "    table.iloc[j,1] = accuracy_score(y_test,y_pred_lr)\n",
    "    j += 1\n",
    "    \n",
    "table   \n"
   ]
  },
  {
   "cell_type": "code",
   "execution_count": 93,
   "id": "b0ec45d1",
   "metadata": {},
   "outputs": [
    {
     "name": "stdout",
     "output_type": "stream",
     "text": [
      "[[51798     0]\n",
      " [    0  8202]]\n",
      "1.0\n"
     ]
    }
   ],
   "source": [
    "from sklearn.metrics import confusion_matrix\n",
    "\n",
    "cnf_matrix= confusion_matrix(y_test,y_pred_lr)\n",
    "print(cnf_matrix)\n",
    "Accuracy_lr=Logreg.score(X_test,y_test)\n",
    "\n",
    "print(Accuracy_lr)"
   ]
  },
  {
   "cell_type": "code",
   "execution_count": 96,
   "id": "4d15d3dd",
   "metadata": {},
   "outputs": [
    {
     "name": "stdout",
     "output_type": "stream",
     "text": [
      "[1. 1. 1. 1. 1.]\n",
      "Mean cross validation test score: 1.0\n",
      "Mean cross validation train score: 1.0\n",
      "Standard deviation in cv test scores: 0.0\n"
     ]
    }
   ],
   "source": [
    "\n",
    "cv_scores_test= cross_val_score(Logreg,X_test,y_test,cv=5,scoring='roc_auc')\n",
    "cv_scores_train= cross_val_score(Logreg,X_res_train,y_res_train,cv=5,scoring='roc_auc')\n",
    "print(cv_scores_test)\n",
    "cv_scores_lr_test= cv_scores_test.mean()\n",
    "cv_scores_lr_train= cv_scores_train.mean()\n",
    "cv_scores_std_test_lr= cv_scores_test.std()\n",
    "print ('Mean cross validation test score: ' +str(cv_scores_lr_test))\n",
    "print ('Mean cross validation train score: ' +str(cv_scores_lr_train))\n",
    "print ('Standard deviation in cv test scores: ' +str(cv_scores_std_test_lr))\n",
    "\n"
   ]
  },
  {
   "cell_type": "markdown",
   "id": "be2dff5f",
   "metadata": {},
   "source": [
    "## 5.4 Gradient boosting"
   ]
  },
  {
   "cell_type": "markdown",
   "id": "cab8596c",
   "metadata": {},
   "source": [
    "Gradient Boosting is an algorithm used for classification and regression tasks. It is a boosting algorithm that builds an ensemble of weak models to create a strong predictive model. In classification problems, the output of the algorithm is a set of class labels."
   ]
  },
  {
   "cell_type": "markdown",
   "id": "bbb3f050",
   "metadata": {},
   "source": [
    "Run the cell below to test multiple learning rates in your gradient boosting classifier.\n"
   ]
  },
  {
   "cell_type": "code",
   "execution_count": 85,
   "id": "7be06aaf",
   "metadata": {},
   "outputs": [
    {
     "name": "stdout",
     "output_type": "stream",
     "text": [
      "Learning rate:  0.05\n",
      "Accuracy score (training): 0.918\n",
      "Accuracy score (validation): 0.885\n",
      "\n",
      "Learning rate:  0.1\n",
      "Accuracy score (training): 0.923\n",
      "Accuracy score (validation): 0.892\n",
      "\n",
      "Learning rate:  0.25\n",
      "Accuracy score (training): 0.936\n",
      "Accuracy score (validation): 0.910\n",
      "\n",
      "Learning rate:  0.5\n",
      "Accuracy score (training): 0.981\n",
      "Accuracy score (validation): 0.966\n",
      "\n",
      "Learning rate:  0.75\n",
      "Accuracy score (training): 0.993\n",
      "Accuracy score (validation): 0.988\n",
      "\n",
      "Learning rate:  1\n",
      "Accuracy score (training): 0.997\n",
      "Accuracy score (validation): 0.995\n",
      "\n"
     ]
    }
   ],
   "source": [
    "from sklearn.ensemble import GradientBoostingClassifier\n",
    "from sklearn.metrics import roc_curve, auc\n",
    "\n",
    "learning_rates = [0.05, 0.1, 0.25, 0.5, 0.75, 1]\n",
    "for learning_rate in learning_rates:\n",
    "    gb = GradientBoostingClassifier(n_estimators=20, learning_rate = learning_rate, max_features=2, max_depth = 2, random_state = 0)\n",
    "    gb.fit(X_res_train, y_res_train)\n",
    "    print(\"Learning rate: \", learning_rate)\n",
    "    print(\"Accuracy score (training): {0:.3f}\".format(gb.score(X_res_train, y_res_train)))\n",
    "    print(\"Accuracy score (validation): {0:.3f}\".format(gb.score(X_test, y_test)))\n",
    "    print()"
   ]
  },
  {
   "cell_type": "markdown",
   "id": "1302a880",
   "metadata": {},
   "source": [
    "Next, we will apply the best learning rate to the model fit and predict on the testing set. Print out the confusion matrix and the classification report to review the model performance."
   ]
  },
  {
   "cell_type": "code",
   "execution_count": 86,
   "id": "6885f51f",
   "metadata": {},
   "outputs": [
    {
     "name": "stdout",
     "output_type": "stream",
     "text": [
      "[[51528   270]\n",
      " [    8  8194]]\n",
      "0.9953666666666666\n"
     ]
    }
   ],
   "source": [
    "#best LR is 1 becasue it has the highest accurancy score for validation\n",
    "gb = GradientBoostingClassifier(n_estimators=20, learning_rate = 1, max_features=2, max_depth = 2, random_state = 0)\n",
    "gb.fit(X_res_train, y_res_train)\n",
    "\n",
    "#Predict using the model:\n",
    "\n",
    "y_predict_gb = gb.predict(X_test)\n",
    "\n",
    "#Confusion matrix:\n",
    "\n",
    "cnf_matrix = confusion_matrix(y_test, y_predict_gb)\n",
    "print(cnf_matrix)\n",
    "Accuracy_gb=gb.score(X_test,y_test)\n",
    "print(Accuracy_gb)"
   ]
  },
  {
   "cell_type": "code",
   "execution_count": 87,
   "id": "2e272af8",
   "metadata": {},
   "outputs": [
    {
     "name": "stdout",
     "output_type": "stream",
     "text": [
      "              precision    recall  f1-score   support\n",
      "\n",
      "           0       0.99      0.94      0.97     51798\n",
      "           1       0.71      0.96      0.82      8202\n",
      "\n",
      "    accuracy                           0.94     60000\n",
      "   macro avg       0.85      0.95      0.89     60000\n",
      "weighted avg       0.96      0.94      0.95     60000\n",
      "\n"
     ]
    }
   ],
   "source": [
    "print(classification_report(y_test,y_pred))"
   ]
  },
  {
   "cell_type": "code",
   "execution_count": 88,
   "id": "79438e23",
   "metadata": {},
   "outputs": [
    {
     "name": "stdout",
     "output_type": "stream",
     "text": [
      "[0.99991313 0.99992137 0.99999965 0.99989464 0.99996282]\n",
      "Mean cross validation test score: 0.9999383209668794\n",
      "Mean cross validation train score: 0.9998733908788264\n",
      "Standard deviation in cv scores: 3.792406457763803e-05\n"
     ]
    }
   ],
   "source": [
    "#Cross_validation \n",
    "cv_scores_test= cross_val_score(gb,X_test,y_test,cv=5,scoring='roc_auc')\n",
    "cv_scores_train= cross_val_score(gb,X_res_train,y_res_train,cv=5,scoring='roc_auc')\n",
    "print(cv_scores_test)\n",
    "cv_scores_gb_test= cv_scores_test.mean()\n",
    "cv_scores_gb_train= cv_scores_train.mean()\n",
    "cv_scores_std_gb= cv_scores_test.std()\n",
    "print ('Mean cross validation test score: ' +str(cv_scores_gb_test))\n",
    "print ('Mean cross validation train score: ' +str(cv_scores_gb_train))\n",
    "print ('Standard deviation in cv scores: ' +str(cv_scores_std_gb))\n",
    "\n"
   ]
  },
  {
   "cell_type": "markdown",
   "id": "74a78552",
   "metadata": {},
   "source": [
    "## 5.6 Naive Bayes"
   ]
  },
  {
   "cell_type": "code",
   "execution_count": 83,
   "id": "73df2f9d",
   "metadata": {},
   "outputs": [
    {
     "name": "stdout",
     "output_type": "stream",
     "text": [
      "[[51755    43]\n",
      " [    0  8202]]\n",
      "0.9992833333333333\n"
     ]
    }
   ],
   "source": [
    "from sklearn.naive_bayes import GaussianNB\n",
    "nb = GaussianNB()\n",
    "nb.fit(X_res_train,y_res_train)\n",
    "\n",
    "#Predict using the model:\n",
    "\n",
    "y_predict_nb=nb.predict(X_test)\n",
    "\n",
    "#Confusion matrix:\n",
    "\n",
    "cnf_matrix = confusion_matrix(y_test, y_predict_nb)\n",
    "print(cnf_matrix)\n",
    "Accuracy_nb=nb.score(X_test,y_test)\n",
    "print(Accuracy_nb)"
   ]
  },
  {
   "cell_type": "code",
   "execution_count": 84,
   "id": "36e9822d",
   "metadata": {},
   "outputs": [
    {
     "name": "stdout",
     "output_type": "stream",
     "text": [
      "[1.         0.99995174 0.99990347 1.         1.        ]\n",
      "Mean cross validation test score: 0.9999710424710425\n",
      "Mean cross validation train score: 1.0\n",
      "Standard deviation in cv scores: 3.8610038610048526e-05\n"
     ]
    }
   ],
   "source": [
    "# cross_validation\n",
    "\n",
    "cv_scores_test= cross_val_score(nb,X_test,y_test,cv=5,scoring='roc_auc')\n",
    "cv_scores_train= cross_val_score(nb,X_res_train,y_res_train,cv=5,scoring='roc_auc')\n",
    "print(cv_scores_test)\n",
    "cv_scores_nb_test= cv_scores_test.mean()\n",
    "cv_scores_nb_train= cv_scores_train.mean()\n",
    "cv_scores_std_nb= cv_scores_test.std()\n",
    "print ('Mean cross validation test score: ' +str(cv_scores_nb_test))\n",
    "print ('Mean cross validation train score: ' +str(cv_scores_nb_train))\n",
    "print ('Standard deviation in cv scores: ' +str(cv_scores_std_nb))"
   ]
  },
  {
   "cell_type": "markdown",
   "id": "fdb1b2f2",
   "metadata": {},
   "source": [
    "# 6.Comparison of the models"
   ]
  },
  {
   "cell_type": "markdown",
   "id": "10a980e8",
   "metadata": {},
   "source": [
    "In the sections above, we applied different ML models and evaluated their performances.\n",
    "\n",
    "in terms of ROC-AUC score for both the training and test data. Here we have tabulated the scores and plotted them.\n",
    "\n",
    "Clearly, the Gradient Boost, and the Random Forest are the two best performing models. Both of the models are ensembled, based on decision trees.\n",
    "\n",
    "So, we will perform a grid search/ hyperparameter tuning for those two ML models."
   ]
  },
  {
   "cell_type": "code",
   "execution_count": 97,
   "id": "0a9f5daf",
   "metadata": {},
   "outputs": [
    {
     "name": "stdout",
     "output_type": "stream",
     "text": [
      "             Algorithm  Model accuracy score\n",
      "0                  KNN              0.999633\n",
      "1        Random Forest              0.949183\n",
      "2  Logistic Regression              1.000000\n",
      "3       Gradient Boost              0.995367\n",
      "4          Naive Bayes              0.999283\n"
     ]
    },
    {
     "data": {
      "text/html": [
       "<div>\n",
       "<style scoped>\n",
       "    .dataframe tbody tr th:only-of-type {\n",
       "        vertical-align: middle;\n",
       "    }\n",
       "\n",
       "    .dataframe tbody tr th {\n",
       "        vertical-align: top;\n",
       "    }\n",
       "\n",
       "    .dataframe thead th {\n",
       "        text-align: right;\n",
       "    }\n",
       "</style>\n",
       "<table border=\"1\" class=\"dataframe\">\n",
       "  <thead>\n",
       "    <tr style=\"text-align: right;\">\n",
       "      <th></th>\n",
       "      <th>Algorithm</th>\n",
       "      <th>ROC-AUC train score</th>\n",
       "      <th>ROC-AUC test score</th>\n",
       "    </tr>\n",
       "  </thead>\n",
       "  <tbody>\n",
       "    <tr>\n",
       "      <th>0</th>\n",
       "      <td>KNN</td>\n",
       "      <td>0.987377</td>\n",
       "      <td>0.964990</td>\n",
       "    </tr>\n",
       "    <tr>\n",
       "      <th>1</th>\n",
       "      <td>Random Forest</td>\n",
       "      <td>0.999945</td>\n",
       "      <td>1.000000</td>\n",
       "    </tr>\n",
       "    <tr>\n",
       "      <th>2</th>\n",
       "      <td>Logistic Regression</td>\n",
       "      <td>1.000000</td>\n",
       "      <td>1.000000</td>\n",
       "    </tr>\n",
       "    <tr>\n",
       "      <th>3</th>\n",
       "      <td>Gradient Boost</td>\n",
       "      <td>0.999873</td>\n",
       "      <td>0.999938</td>\n",
       "    </tr>\n",
       "    <tr>\n",
       "      <th>4</th>\n",
       "      <td>Naive Bayes</td>\n",
       "      <td>1.000000</td>\n",
       "      <td>0.999971</td>\n",
       "    </tr>\n",
       "  </tbody>\n",
       "</table>\n",
       "</div>"
      ],
      "text/plain": [
       "             Algorithm  ROC-AUC train score  ROC-AUC test score\n",
       "0                  KNN             0.987377            0.964990\n",
       "1        Random Forest             0.999945            1.000000\n",
       "2  Logistic Regression             1.000000            1.000000\n",
       "3       Gradient Boost             0.999873            0.999938\n",
       "4          Naive Bayes             1.000000            0.999971"
      ]
     },
     "execution_count": 97,
     "metadata": {},
     "output_type": "execute_result"
    }
   ],
   "source": [
    "labels = ['KNN','Random Forest', 'Logistic Regression','Gradient Boost', 'Naive Bayes']\n",
    "score_test= [cv_scores_knn_test, cv_scores_rfc_test, cv_scores_lr_test,cv_scores_gb_test,cv_scores_nb_test]\n",
    "score_train= [cv_scores_knn_train, cv_scores_rfc_train, cv_scores_lr_train,cv_scores_gb_train,cv_scores_nb_train]\n",
    "Accuracy_score = [Accuracy_knn,Accuracy_rfc, Accuracy_lr,Accuracy_gb,Accuracy_nb]\n",
    "\n",
    "score_tab_acc = pd.DataFrame(list(zip(labels, Accuracy_score)),  \n",
    "               columns =['Algorithm', 'Model accuracy score']) \n",
    "\n",
    "score_tab = pd.DataFrame(list(zip(labels, score_train, score_test)), \n",
    "               columns =['Algorithm', 'ROC-AUC train score', 'ROC-AUC test score' ]) \n",
    "print(score_tab_acc)\n",
    "\n",
    "score_tab"
   ]
  },
  {
   "cell_type": "code",
   "execution_count": 98,
   "id": "69bb0cc4",
   "metadata": {},
   "outputs": [
    {
     "data": {
      "image/png": "[encoded data removed]",
      "text/plain": [
       "<Figure size 720x360 with 1 Axes>"
      ]
     },
     "metadata": {
      "needs_background": "light"
     },
     "output_type": "display_data"
    },
    {
     "data": {
      "image/png": "[encoded data removed]",
      "text/plain": [
       "<Figure size 720x360 with 1 Axes>"
      ]
     },
     "metadata": {
      "needs_background": "light"
     },
     "output_type": "display_data"
    }
   ],
   "source": [
    "#plotting the accuracy scores:\n",
    "\n",
    "\n",
    "index=[1,2,3,4,5,6]\n",
    "index_acc=[1.2,2.2,3.2,4.2,5.2]\n",
    "plt.figure(figsize=(10,5))\n",
    "plt.xlabel('Models',fontsize=15)\n",
    "plt.ylabel ('Model accuracy scores',fontsize=15)\n",
    "plt.title('Comparison of the algorithms',fontsize=15)\n",
    "#patterns = [ \"/\"]\n",
    "_=plt.bar(index_acc,Accuracy_score,color='coral',alpha=0.8,label='Accuracy score',edgecolor='k',width=0.3)\n",
    "plt.xticks([1, 2,3,4,5], labels)\n",
    "#plt.legend()\n",
    "plt.savefig(\"26.png\")\n",
    "plt.show()\n",
    "\n",
    "#plotting and comparing ROC-AUC train/test scores:\n",
    "\n",
    "index=[1,2,3,4,5]\n",
    "index_acc=[1.2,2.2,3.2,4.2,5.2]\n",
    "plt.figure(figsize=(10,5))\n",
    "plt.xlabel('Models',fontsize=15)\n",
    "plt.ylabel ('ROC-AUC scores',fontsize=15)\n",
    "plt.title('Comparison of the algorithms',fontsize=15)\n",
    "_=plt.bar(index,score_train,color='b',alpha=0.6,label='Training score',edgecolor='k',width=0.2)\n",
    "_=plt.bar(index_acc,score_test,color='cyan',alpha=0.8,label='Test score',edgecolor='k',width=0.2)\n",
    "plt.xticks([1, 2,3,4,5], labels)\n",
    "plt.legend()\n",
    "plt.savefig(\"27.png\")\n",
    "plt.show()"
   ]
  },
  {
   "cell_type": "code",
   "execution_count": null,
   "id": "159d879e",
   "metadata": {},
   "outputs": [],
   "source": [
    "#Feature importances:\n",
    "\n",
    "features = X_res_train\n",
    "importances = list(rfc.feature_importances_)\n",
    "imp=np.sort(importances)\n",
    "tab=pd.DataFrame(list(zip(X,imp)),columns =['Features', 'Importance scores']) \n",
    "print(tab)\n",
    "\n",
    "#Visual comparison:\n",
    "plt.figure(figsize=(10,5))\n",
    "#indices = np.argsort(importances)\n",
    "index = [0,1,2,3,4,5,6,7,8,9,10,11,12,13,14,15,16,17]\n",
    "_=plt.barh(index,imp, align='center',color='b')\n",
    "plt.xlabel('Relative Importance',fontsize=15)\n",
    "plt.ylabel('Features',fontsize=15)\n",
    "plt.yticks(index, features)\n",
    "plt.title('Feature Importances for Random Forest classifier model',fontsize=15)\n",
    "plt.savefig(\"28.png\")\n",
    "plt.show()\n",
    "#len(importances)"
   ]
  },
  {
   "cell_type": "markdown",
   "id": "9f32487e",
   "metadata": {},
   "source": [
    "# 7. Summary and Conclusion"
   ]
  },
  {
   "cell_type": "markdown",
   "id": "88ecbb60",
   "metadata": {},
   "source": [
    "In this project we are dealing with classificion problem. Thus, to predict the severity of a crash, we have considered the following classification models:\n",
    "        K-Nearest Neighbor (KNN)\n",
    "        Random Forest\n",
    "        Logistic Regression\n",
    "        Gradient Boost\n",
    "        Naive Bayes\n",
    "\n",
    "After conducting a feature selection analysis, the featues \"INJURIES_TOTAL\", \"MOST_SEVERE_INJURY\" were dropped as they were leading to bias results. \n",
    "\n",
    "To avoid overfitting, it is not recommended to evaluate the performance of a model by training and testing on the same dataset. Instead, the dataset should be split into a train set and a validation set for model evaluation. However, the choice of (train, validation) set can affect the performance of the model, which can be overcome by using the Cross-Validation (CV) procedure. Under the k-fold CV approach, the training set is split into k smaller sets, where a model is trained using k-1 of the folds as training data and validated on the remaining part.\n",
    "\n",
    "In our study, we evaluated the performance of each model in terms of model accuracy score and ROC-AUC score for both the training and test data. We also plotted the results to visually inspect the outcome. Based on our analysis, the Random Forest and Naive Bayes were the best performing models.\n"
   ]
  },
  {
   "cell_type": "markdown",
   "id": "1199d625",
   "metadata": {},
   "source": [
    "# 8. Future project/direction"
   ]
  },
  {
   "cell_type": "markdown",
   "id": "63b1b89e",
   "metadata": {},
   "source": [
    "In this case study, to deal with the imbalanced data, we used the imblearn.under_sampling library and implemented its techniques for under-sampling the majority class. \n",
    "\n",
    "This helped to address the problem of imbalanced datasets by reducing the number of samples in the majority class, which at the same time helped to improve the performance of our models.\n",
    "\n",
    "On the other hand, Under-sampling the majority class can lead to loss of information and may result in biased models. This is because random under-sampling can result in loss of important information that may be present in the majority class.\n",
    "\n",
    "Because of the reasons mentioned above, the next step would be to over-sample the minority class to address the problem of imbalanced datasets.This technique involves generating new synthetic samples for the minority class, which can be used to balance the dataset.\n",
    "\n",
    "Ultimately, Implementing both techniques will give us a better understanding of which model performance best."
   ]
  },
  {
   "cell_type": "code",
   "execution_count": null,
   "id": "1a1beb44",
   "metadata": {},
   "outputs": [],
   "source": []
  }
 ],
 "metadata": {
  "kernelspec": {
   "display_name": "Python 3 (ipykernel)",
   "language": "python",
   "name": "python3"
  },
  "language_info": {
   "codemirror_mode": {
    "name": "ipython",
    "version": 3
   },
   "file_extension": ".py",
   "mimetype": "text/x-python",
   "name": "python",
   "nbconvert_exporter": "python",
   "pygments_lexer": "ipython3",
   "version": "3.9.12"
  }
 },
 "nbformat": 4,
 "nbformat_minor": 5
}
